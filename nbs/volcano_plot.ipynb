{
 "cells": [
  {
   "cell_type": "code",
   "execution_count": 2,
   "metadata": {},
   "outputs": [
    {
     "name": "stderr",
     "output_type": "stream",
     "text": [
      "also installing the dependencies ‘sys’, ‘nlme’, ‘Matrix’, ‘plyr’, ‘stringr’, ‘colorspace’, ‘askpass’, ‘backports’, ‘zeallot’, ‘utf8’, ‘httpuv’, ‘xtable’, ‘htmltools’, ‘sourcetools’, ‘fastmap’, ‘gtable’, ‘MASS’, ‘mgcv’, ‘reshape2’, ‘withr’, ‘farver’, ‘labeling’, ‘munsell’, ‘R6’, ‘lifecycle’, ‘curl’, ‘mime’, ‘openssl’, ‘yaml’, ‘ellipsis’, ‘glue’, ‘stringi’, ‘tidyselect’, ‘vctrs’, ‘lattice’, ‘assertthat’, ‘pkgconfig’, ‘BH’, ‘plogr’, ‘cli’, ‘fansi’, ‘pillar’, ‘shiny’, ‘later’, ‘ggplot2’, ‘scales’, ‘httr’, ‘magrittr’, ‘viridisLite’, ‘htmlwidgets’, ‘tidyr’, ‘hexbin’, ‘RColorBrewer’, ‘dplyr’, ‘tibble’, ‘lazyeval’, ‘rlang’, ‘crosstalk’, ‘purrr’, ‘data.table’, ‘promises’\n",
      "\n",
      "Updating HTML index of packages in '.Library'\n",
      "Making 'packages.html' ... done\n"
     ]
    }
   ],
   "source": [
    "install.packages(\"plotly\")"
   ]
  },
  {
   "cell_type": "code",
   "execution_count": 4,
   "metadata": {},
   "outputs": [
    {
     "name": "stderr",
     "output_type": "stream",
     "text": [
      "also installing the dependency ‘getopt’\n",
      "\n",
      "Updating HTML index of packages in '.Library'\n",
      "Making 'packages.html' ... done\n"
     ]
    }
   ],
   "source": [
    "install.packages(\"optparse\")"
   ]
  },
  {
   "cell_type": "code",
   "execution_count": 6,
   "metadata": {},
   "outputs": [],
   "source": [
    "suppressPackageStartupMessages(library(\"plotly\"))\n",
    "options(warn=-1)"
   ]
  },
  {
   "cell_type": "code",
   "execution_count": 7,
   "metadata": {},
   "outputs": [],
   "source": [
    "df <- read.delim(file = \"../results/peak_table/pos_data_withbg.csv\",header = TRUE,sep = ',')"
   ]
  },
  {
   "cell_type": "code",
   "execution_count": 9,
   "metadata": {},
   "outputs": [],
   "source": [
    "# add a grouping column; default value is \"not significant\"\n",
    "df[\"group1\"] <- \"NotSignificant\""
   ]
  },
  {
   "cell_type": "code",
   "execution_count": null,
   "metadata": {},
   "outputs": [],
   "source": []
  },
  {
   "cell_type": "code",
   "execution_count": 10,
   "metadata": {},
   "outputs": [
    {
     "ename": "ERROR",
     "evalue": "Error in `[.data.frame`(df, \"p_value\"): undefined columns selected\n",
     "output_type": "error",
     "traceback": [
      "Error in `[.data.frame`(df, \"p_value\"): undefined columns selected\nTraceback:\n",
      "1. `[<-`(`*tmp*`, which(df[\"p_value\"] < 0.001 & abs(df[\"fold_change\"]) < \n .     1.5), \"group1\", value = \"Significant\")",
      "2. `[<-.data.frame`(`*tmp*`, which(df[\"p_value\"] < 0.001 & abs(df[\"fold_change\"]) < \n .     1.5), \"group1\", value = \"Significant\")",
      "3. which(df[\"p_value\"] < 0.001 & abs(df[\"fold_change\"]) < 1.5)",
      "4. df[\"p_value\"]",
      "5. `[.data.frame`(df, \"p_value\")",
      "6. stop(\"undefined columns selected\")"
     ]
    }
   ],
   "source": [
    "# comparison of skim and whole\n",
    "# change the grouping for the entries with significance but not a large enough Fold change\n",
    "df[which(df['p_value'] < 0.001 & abs(df['fold_change']) < 1.5 ),\"group1\"] <- \"Significant\"\n",
    "# change the grouping for the entries a large enough Fold change but not a low enough p value\n",
    "df[which(df['p_value'] > 0.001 & abs(df['fold_change']) > 1.5 ),\"group1\"] <- \"FoldChange\"\n",
    "# change the grouping for the entries with both significance and large enough fold change\n",
    "df[which(df['p_value'] < 0.001 & abs(df['fold_change']) > 1.5 ),\"group1\"] <- \"Significant&FoldChange\"\n",
    "\n",
    "# Find and label the top peaks..\n",
    "top_peaks <- df[with(df, order(log2_fold_change, p_value)),][1:5,]\n",
    "top_peaks <- rbind(top_peaks, df[with(df, order(-log2_fold_change, log2_p_value)),][1:5,])"
   ]
  },
  {
   "cell_type": "code",
   "execution_count": null,
   "metadata": {},
   "outputs": [],
   "source": []
  }
 ],
 "metadata": {
  "kernelspec": {
   "display_name": "R",
   "language": "R",
   "name": "ir"
  },
  "language_info": {
   "codemirror_mode": "r",
   "file_extension": ".r",
   "mimetype": "text/x-r-source",
   "name": "R",
   "pygments_lexer": "r",
   "version": "3.6.1"
  }
 },
 "nbformat": 4,
 "nbformat_minor": 2
}
